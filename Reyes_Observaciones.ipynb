{
 "cells": [
  {
   "cell_type": "markdown",
   "metadata": {},
   "source": [
    "Tras hacer una función de conteo de frecuencias, he advertido ciertas cosillas que os comento por aquí...\n",
    "\n",
    "\n",
    "### 1)Tenemos qué decidir qué hacer con las columnas cuyos registros son números que representan nivel de satisfacción etc. \n",
    "\n",
    "- ¿Asignamos significado a dichos números y pasamos las columnas a tipo object?\n",
    "   ¿O mantenemos el tipo integer para poder hacer operaciones y asignamos los significados en un documento aparte? MANTENEMOS NÚMEROS\n",
    "\n",
    "- Se verían afectadas las columnas siguientes:\n",
    "\n",
    "**Education**: valores 1, 2, 3, 4, 5    RA - APUNTAR LOS SIGNIFICADOS\n",
    "\n",
    "**EnvironmentSatisfaction**: esta columnas es extraña. Tiene los valores 1, 2, 3, 4 que engloban casi todos los registros. Pero hay unos cuantos valores atípicos que tenemos que ver. RA - DESCONOCIDO\n",
    "\n",
    "**JobInvolvement**: valores 1, 2, 3, 4  RA\n",
    "\n",
    "**JobLevel**: valores 1, 2, 3, 4, 5   RA\n",
    "\n",
    "**JobSatisfaction**: valores 1, 2, 3, 4   RA\n",
    "\n",
    "**RelationshipSatisfaction**: valores 1, 2, 3, 4   RA\n",
    "\n",
    "**StockOptionLevel**: valores 0, 1, 2, 3  RA\n",
    "\n",
    "**WorkLifeBalance**: 1,0, 2,0, 3,0, 4,0. ¿Pasarlo a int64?   FRANCA (HECHO)\n",
    "\n",
    "**RemoteWork**: Esta también es rara. Tiene los valores 1, True, 0, False, Yes   FRANCA (HECHO)\n",
    "\n",
    "\n",
    "\n",
    "\n",
    "### 2) ¿Deberíamos borrar las siguientes columnas?\n",
    "\n",
    "**Over18**: He mirado en la columna de las fechas de nacimiento, y todos los empleados tienen más de 18 años, pues el año de nacimiento más alto es 2005. RA - BORRAR.\n",
    "\n",
    "**PerformanceRating**: Esta columna tiene solo dos valores 3,0 y 4,0. No sé a vosotras, pero a mí esos datos no me dicen nada. LA DEJAMOS DE MOMENTO. LA PODEMOS COMPARAR CON STOCKOPTIONLEVEL\n",
    "\n",
    "**StandardHours**: Solo tiene un valor: 80,0 y mogollón de nulos.  RA - BORRAR\n",
    "\n",
    "\n",
    "\n",
    "### 3) Otras cositas...\n",
    "\n",
    "**DistanceFromHome, MonthlyRate, TotalWorkingYears**: ¿Deberían ser float? LO DEJAMOS COMO ESTÁ\n",
    "\n",
    "**EmployeeNumber**: ¿Qué hacemos con esta columna?  HEMOS ELIMINADO LOS DUPLICADOS\n",
    "\n",
    "**Role_Department**: Esta columna parece ser una mezcla de \"JobRole\" y \"Department\". ¿Cómo podríamos comprobarlo para decidir si la eliminamos?  LA HEMOS ELIMINADO\n",
    "\n"
   ]
  },
  {
   "cell_type": "code",
   "execution_count": null,
   "metadata": {},
   "outputs": [],
   "source": []
  }
 ],
 "metadata": {
  "language_info": {
   "name": "python"
  }
 },
 "nbformat": 4,
 "nbformat_minor": 2
}

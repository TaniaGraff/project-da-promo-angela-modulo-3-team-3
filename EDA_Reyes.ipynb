{
 "cells": [
  {
   "cell_type": "code",
   "execution_count": 6,
   "metadata": {},
   "outputs": [],
   "source": [
    "# importamos las librerías que necesitamos\n",
    "\n",
    "# Tratamiento de datos\n",
    "import pandas as pd\n",
    "import numpy as np\n",
    "\n",
    "# Imputación de nulos usando métodos avanzados estadísticos\n",
    "from sklearn.impute import SimpleImputer\n",
    "from sklearn.experimental import enable_iterative_imputer\n",
    "from sklearn.impute import IterativeImputer\n",
    "from sklearn.impute import KNNImputer\n",
    "\n",
    "# Librerías de visualización\n",
    "import seaborn as sns\n",
    "import matplotlib.pyplot as plt\n",
    "\n",
    "# Configuración\n",
    "pd.set_option('display.max_columns', None) # para poder visualizar todas las columnas de los DataFrames\n",
    "# pd.set_option('display.max_rows', None) # para poder visualizar todas las filas de los DataFrames"
   ]
  },
  {
   "cell_type": "code",
   "execution_count": 2,
   "metadata": {},
   "outputs": [
    {
     "data": {
      "text/html": [
       "<div>\n",
       "<style scoped>\n",
       "    .dataframe tbody tr th:only-of-type {\n",
       "        vertical-align: middle;\n",
       "    }\n",
       "\n",
       "    .dataframe tbody tr th {\n",
       "        vertical-align: top;\n",
       "    }\n",
       "\n",
       "    .dataframe thead th {\n",
       "        text-align: right;\n",
       "    }\n",
       "</style>\n",
       "<table border=\"1\" class=\"dataframe\">\n",
       "  <thead>\n",
       "    <tr style=\"text-align: right;\">\n",
       "      <th></th>\n",
       "      <th>Attrition</th>\n",
       "      <th>BusinessTravel</th>\n",
       "      <th>DailyRate</th>\n",
       "      <th>Department</th>\n",
       "      <th>DistanceFromHome</th>\n",
       "      <th>Education</th>\n",
       "      <th>EducationField</th>\n",
       "      <th>EmployeeNumber</th>\n",
       "      <th>EnvironmentSatisfaction</th>\n",
       "      <th>Gender</th>\n",
       "      <th>HourlyRate</th>\n",
       "      <th>JobInvolvement</th>\n",
       "      <th>JobLevel</th>\n",
       "      <th>JobRole</th>\n",
       "      <th>JobSatisfaction</th>\n",
       "      <th>MaritalStatus</th>\n",
       "      <th>MonthlyIncome</th>\n",
       "      <th>MonthlyRate</th>\n",
       "      <th>NumCompaniesWorked</th>\n",
       "      <th>Over18</th>\n",
       "      <th>OverTime</th>\n",
       "      <th>PercentSalaryHike</th>\n",
       "      <th>PerformanceRating</th>\n",
       "      <th>RelationshipSatisfaction</th>\n",
       "      <th>StandardHours</th>\n",
       "      <th>StockOptionLevel</th>\n",
       "      <th>TotalWorkingYears</th>\n",
       "      <th>TrainingTimesLastYear</th>\n",
       "      <th>WorkLifeBalance</th>\n",
       "      <th>YearsAtCompany</th>\n",
       "      <th>YearsInCurrentRole</th>\n",
       "      <th>YearsSinceLastPromotion</th>\n",
       "      <th>YearsWithCurrManager</th>\n",
       "      <th>DateBirth</th>\n",
       "      <th>RoleDepartament</th>\n",
       "      <th>RemoteWork</th>\n",
       "    </tr>\n",
       "    <tr>\n",
       "      <th>Age</th>\n",
       "      <th></th>\n",
       "      <th></th>\n",
       "      <th></th>\n",
       "      <th></th>\n",
       "      <th></th>\n",
       "      <th></th>\n",
       "      <th></th>\n",
       "      <th></th>\n",
       "      <th></th>\n",
       "      <th></th>\n",
       "      <th></th>\n",
       "      <th></th>\n",
       "      <th></th>\n",
       "      <th></th>\n",
       "      <th></th>\n",
       "      <th></th>\n",
       "      <th></th>\n",
       "      <th></th>\n",
       "      <th></th>\n",
       "      <th></th>\n",
       "      <th></th>\n",
       "      <th></th>\n",
       "      <th></th>\n",
       "      <th></th>\n",
       "      <th></th>\n",
       "      <th></th>\n",
       "      <th></th>\n",
       "      <th></th>\n",
       "      <th></th>\n",
       "      <th></th>\n",
       "      <th></th>\n",
       "      <th></th>\n",
       "      <th></th>\n",
       "      <th></th>\n",
       "      <th></th>\n",
       "      <th></th>\n",
       "    </tr>\n",
       "  </thead>\n",
       "  <tbody>\n",
       "    <tr>\n",
       "      <th>51</th>\n",
       "      <td>No</td>\n",
       "      <td>NaN</td>\n",
       "      <td>684.0</td>\n",
       "      <td>NaN</td>\n",
       "      <td>6</td>\n",
       "      <td>3</td>\n",
       "      <td>NaN</td>\n",
       "      <td>162,0</td>\n",
       "      <td>1</td>\n",
       "      <td>M</td>\n",
       "      <td>51.0</td>\n",
       "      <td>3</td>\n",
       "      <td>5</td>\n",
       "      <td>Research Director</td>\n",
       "      <td>3</td>\n",
       "      <td>NaN</td>\n",
       "      <td>19537.0</td>\n",
       "      <td>6462</td>\n",
       "      <td>7</td>\n",
       "      <td>Y</td>\n",
       "      <td>No</td>\n",
       "      <td>13</td>\n",
       "      <td>3,0</td>\n",
       "      <td>3</td>\n",
       "      <td>NaN</td>\n",
       "      <td>0</td>\n",
       "      <td>NaN</td>\n",
       "      <td>5</td>\n",
       "      <td>3,0</td>\n",
       "      <td>20</td>\n",
       "      <td>NaN</td>\n",
       "      <td>15</td>\n",
       "      <td>15</td>\n",
       "      <td>1972</td>\n",
       "      <td>NaN</td>\n",
       "      <td>Yes</td>\n",
       "    </tr>\n",
       "    <tr>\n",
       "      <th>52</th>\n",
       "      <td>No</td>\n",
       "      <td>NaN</td>\n",
       "      <td>699.0</td>\n",
       "      <td>NaN</td>\n",
       "      <td>1</td>\n",
       "      <td>4</td>\n",
       "      <td>Life Sciences</td>\n",
       "      <td>259,0</td>\n",
       "      <td>3</td>\n",
       "      <td>M</td>\n",
       "      <td>65.0</td>\n",
       "      <td>2</td>\n",
       "      <td>5</td>\n",
       "      <td>Manager</td>\n",
       "      <td>3</td>\n",
       "      <td>NaN</td>\n",
       "      <td>19999.0</td>\n",
       "      <td>5678</td>\n",
       "      <td>0</td>\n",
       "      <td>NaN</td>\n",
       "      <td>NaN</td>\n",
       "      <td>14</td>\n",
       "      <td>3,0</td>\n",
       "      <td>1</td>\n",
       "      <td>NaN</td>\n",
       "      <td>1</td>\n",
       "      <td>34,0</td>\n",
       "      <td>5</td>\n",
       "      <td>3,0</td>\n",
       "      <td>33</td>\n",
       "      <td>NaN</td>\n",
       "      <td>11</td>\n",
       "      <td>9</td>\n",
       "      <td>1971</td>\n",
       "      <td>NaN</td>\n",
       "      <td>1</td>\n",
       "    </tr>\n",
       "    <tr>\n",
       "      <th>42</th>\n",
       "      <td>No</td>\n",
       "      <td>travel_rarely</td>\n",
       "      <td>532.0</td>\n",
       "      <td>Research &amp; Development</td>\n",
       "      <td>4</td>\n",
       "      <td>2</td>\n",
       "      <td>Technical Degree</td>\n",
       "      <td>319,0</td>\n",
       "      <td>3</td>\n",
       "      <td>M</td>\n",
       "      <td>58.0</td>\n",
       "      <td>3</td>\n",
       "      <td>5</td>\n",
       "      <td>Manager</td>\n",
       "      <td>4</td>\n",
       "      <td>Married</td>\n",
       "      <td>19232.0</td>\n",
       "      <td>4933</td>\n",
       "      <td>1</td>\n",
       "      <td>NaN</td>\n",
       "      <td>No</td>\n",
       "      <td>11</td>\n",
       "      <td>3,0</td>\n",
       "      <td>4</td>\n",
       "      <td>NaN</td>\n",
       "      <td>0</td>\n",
       "      <td>22,0</td>\n",
       "      <td>3</td>\n",
       "      <td>NaN</td>\n",
       "      <td>22</td>\n",
       "      <td>NaN</td>\n",
       "      <td>11</td>\n",
       "      <td>15</td>\n",
       "      <td>1981</td>\n",
       "      <td>Manager  -  Research &amp; Development</td>\n",
       "      <td>1</td>\n",
       "    </tr>\n",
       "    <tr>\n",
       "      <th>47</th>\n",
       "      <td>No</td>\n",
       "      <td>travel_rarely</td>\n",
       "      <td>359.0</td>\n",
       "      <td>NaN</td>\n",
       "      <td>2</td>\n",
       "      <td>4</td>\n",
       "      <td>Medical</td>\n",
       "      <td>NaN</td>\n",
       "      <td>1</td>\n",
       "      <td>F</td>\n",
       "      <td>82.0</td>\n",
       "      <td>3</td>\n",
       "      <td>4</td>\n",
       "      <td>Research Director</td>\n",
       "      <td>3</td>\n",
       "      <td>Married</td>\n",
       "      <td>17169.0</td>\n",
       "      <td>26703</td>\n",
       "      <td>3</td>\n",
       "      <td>Y</td>\n",
       "      <td>NaN</td>\n",
       "      <td>19</td>\n",
       "      <td>3,0</td>\n",
       "      <td>2</td>\n",
       "      <td>NaN</td>\n",
       "      <td>2</td>\n",
       "      <td>NaN</td>\n",
       "      <td>2</td>\n",
       "      <td>NaN</td>\n",
       "      <td>20</td>\n",
       "      <td>NaN</td>\n",
       "      <td>5</td>\n",
       "      <td>6</td>\n",
       "      <td>1976</td>\n",
       "      <td>NaN</td>\n",
       "      <td>False</td>\n",
       "    </tr>\n",
       "    <tr>\n",
       "      <th>46</th>\n",
       "      <td>No</td>\n",
       "      <td>NaN</td>\n",
       "      <td>1319.0</td>\n",
       "      <td>NaN</td>\n",
       "      <td>3</td>\n",
       "      <td>3</td>\n",
       "      <td>Technical Degree</td>\n",
       "      <td>NaN</td>\n",
       "      <td>1</td>\n",
       "      <td>F</td>\n",
       "      <td>45.0</td>\n",
       "      <td>4</td>\n",
       "      <td>4</td>\n",
       "      <td>Sales Executive</td>\n",
       "      <td>1</td>\n",
       "      <td>Divorced</td>\n",
       "      <td>NaN</td>\n",
       "      <td>7739</td>\n",
       "      <td>2</td>\n",
       "      <td>Y</td>\n",
       "      <td>No</td>\n",
       "      <td>12</td>\n",
       "      <td>3,0</td>\n",
       "      <td>4</td>\n",
       "      <td>NaN</td>\n",
       "      <td>1</td>\n",
       "      <td>NaN</td>\n",
       "      <td>5</td>\n",
       "      <td>3,0</td>\n",
       "      <td>19</td>\n",
       "      <td>NaN</td>\n",
       "      <td>2</td>\n",
       "      <td>8</td>\n",
       "      <td>1977</td>\n",
       "      <td>NaN</td>\n",
       "      <td>0</td>\n",
       "    </tr>\n",
       "  </tbody>\n",
       "</table>\n",
       "</div>"
      ],
      "text/plain": [
       "    Attrition BusinessTravel  DailyRate                Department  \\\n",
       "Age                                                                 \n",
       "51         No            NaN      684.0                       NaN   \n",
       "52         No            NaN      699.0                       NaN   \n",
       "42         No  travel_rarely      532.0   Research & Development    \n",
       "47         No  travel_rarely      359.0                       NaN   \n",
       "46         No            NaN     1319.0                       NaN   \n",
       "\n",
       "     DistanceFromHome  Education    EducationField EmployeeNumber  \\\n",
       "Age                                                                 \n",
       "51                  6          3               NaN          162,0   \n",
       "52                  1          4     Life Sciences          259,0   \n",
       "42                  4          2  Technical Degree          319,0   \n",
       "47                  2          4           Medical            NaN   \n",
       "46                  3          3  Technical Degree            NaN   \n",
       "\n",
       "     EnvironmentSatisfaction Gender  HourlyRate  JobInvolvement  JobLevel  \\\n",
       "Age                                                                         \n",
       "51                         1      M        51.0               3         5   \n",
       "52                         3      M        65.0               2         5   \n",
       "42                         3      M        58.0               3         5   \n",
       "47                         1      F        82.0               3         4   \n",
       "46                         1      F        45.0               4         4   \n",
       "\n",
       "                 JobRole  JobSatisfaction MaritalStatus  MonthlyIncome  \\\n",
       "Age                                                                      \n",
       "51    Research Director                 3           NaN        19537.0   \n",
       "52              Manager                 3           NaN        19999.0   \n",
       "42              Manager                 4       Married        19232.0   \n",
       "47    Research Director                 3       Married        17169.0   \n",
       "46      Sales Executive                 1      Divorced            NaN   \n",
       "\n",
       "     MonthlyRate  NumCompaniesWorked Over18 OverTime  PercentSalaryHike  \\\n",
       "Age                                                                       \n",
       "51          6462                   7      Y       No                 13   \n",
       "52          5678                   0    NaN      NaN                 14   \n",
       "42          4933                   1    NaN       No                 11   \n",
       "47         26703                   3      Y      NaN                 19   \n",
       "46          7739                   2      Y       No                 12   \n",
       "\n",
       "    PerformanceRating  RelationshipSatisfaction StandardHours  \\\n",
       "Age                                                             \n",
       "51                3,0                         3           NaN   \n",
       "52                3,0                         1           NaN   \n",
       "42                3,0                         4           NaN   \n",
       "47                3,0                         2           NaN   \n",
       "46                3,0                         4           NaN   \n",
       "\n",
       "     StockOptionLevel TotalWorkingYears  TrainingTimesLastYear  \\\n",
       "Age                                                              \n",
       "51                  0               NaN                      5   \n",
       "52                  1              34,0                      5   \n",
       "42                  0              22,0                      3   \n",
       "47                  2               NaN                      2   \n",
       "46                  1               NaN                      5   \n",
       "\n",
       "    WorkLifeBalance  YearsAtCompany YearsInCurrentRole  \\\n",
       "Age                                                      \n",
       "51              3,0              20                NaN   \n",
       "52              3,0              33                NaN   \n",
       "42              NaN              22                NaN   \n",
       "47              NaN              20                NaN   \n",
       "46              3,0              19                NaN   \n",
       "\n",
       "     YearsSinceLastPromotion  YearsWithCurrManager  DateBirth  \\\n",
       "Age                                                             \n",
       "51                        15                    15       1972   \n",
       "52                        11                     9       1971   \n",
       "42                        11                    15       1981   \n",
       "47                         5                     6       1976   \n",
       "46                         2                     8       1977   \n",
       "\n",
       "                          RoleDepartament RemoteWork  \n",
       "Age                                                   \n",
       "51                                    NaN        Yes  \n",
       "52                                    NaN          1  \n",
       "42    Manager  -  Research & Development           1  \n",
       "47                                    NaN      False  \n",
       "46                                    NaN          0  "
      ]
     },
     "execution_count": 2,
     "metadata": {},
     "output_type": "execute_result"
    }
   ],
   "source": [
    "#Abrimos el csv y lo convertimos a un DataFrame.\n",
    "df_HR = pd.read_csv('df_HR_limpio.csv', index_col= 0)\n",
    "df_HR.head()"
   ]
  },
  {
   "cell_type": "code",
   "execution_count": 3,
   "metadata": {},
   "outputs": [
    {
     "data": {
      "text/plain": [
       "Index(['Attrition', 'BusinessTravel', 'DailyRate', 'Department',\n",
       "       'DistanceFromHome', 'Education', 'EducationField', 'EmployeeNumber',\n",
       "       'EnvironmentSatisfaction', 'Gender', 'HourlyRate', 'JobInvolvement',\n",
       "       'JobLevel', 'JobRole', 'JobSatisfaction', 'MaritalStatus',\n",
       "       'MonthlyIncome', 'MonthlyRate', 'NumCompaniesWorked', 'Over18',\n",
       "       'OverTime', 'PercentSalaryHike', 'PerformanceRating',\n",
       "       'RelationshipSatisfaction', 'StandardHours', 'StockOptionLevel',\n",
       "       'TotalWorkingYears', 'TrainingTimesLastYear', 'WorkLifeBalance',\n",
       "       'YearsAtCompany', 'YearsInCurrentRole', 'YearsSinceLastPromotion',\n",
       "       'YearsWithCurrManager', 'DateBirth', 'RoleDepartament', 'RemoteWork'],\n",
       "      dtype='object')"
      ]
     },
     "execution_count": 3,
     "metadata": {},
     "output_type": "execute_result"
    }
   ],
   "source": [
    "df_HR.columns\n"
   ]
  },
  {
   "cell_type": "code",
   "execution_count": 4,
   "metadata": {},
   "outputs": [
    {
     "name": "stdout",
     "output_type": "stream",
     "text": [
      "Attrition\n",
      "['No' 'Yes']\n",
      "BusinessTravel\n",
      "[nan 'travel_rarely' 'travel_frequently' 'non-travel']\n",
      "DailyRate\n",
      "[ 684.  699.  532.  359. 1319.  117. 1435.  635. 1276.  840.  247. 1369.\n",
      "  201. 1360.  692. 1398.  286. 1402.  819.  884. 1238.  515. 1223.  202.\n",
      "  928.  607.  266.  429.  589.   nan 1180. 1282.  776.  665.  526. 1034.\n",
      " 1403. 1499.  580.  859.  263. 1376.  885. 1003. 1321.  394. 1372. 1333.\n",
      "  228.  737.  823.  667.  301.  573. 1329.  630. 1063. 1017. 1296.  939.\n",
      " 1355. 1448.  200. 1202.  404.  208.  813.  465. 1189. 1001. 1394.  161.\n",
      "  288.  682. 1354.  147.  119. 1413.  452.  334. 1132.  982.  480. 1099.\n",
      "  672. 1379.  583. 1492. 1050.  469.  237. 1440. 1291. 1157. 1336. 1224.\n",
      "  735. 1389.  638. 1240.  194. 1339.  111. 1469.  470. 1232. 1249.  798.\n",
      "  549.  570.  541.  164. 1117.  619.  319.  956. 1245. 1397.  527.  213.\n",
      "  882.  330.  406.  217.  481.  669. 1465.  685. 1062.  177. 1199.  648.\n",
      "  412.  282.  770.  601.  855.  332. 1326.  748.  405.  790.  971. 1370.\n",
      "  750.  880.  678. 1179.  350. 1266.  574.  189.  310.  722. 1219.  994.\n",
      "  721.  853.  427.  852. 1334. 1093.  967.  989. 1195. 1045.  829.  663.\n",
      " 1300. 1105.  906.  849. 1275. 1218.  422. 1274. 1076. 1207.  430.  933.\n",
      " 1184.  586.  890.  379. 1425. 1188.  938. 1053.  248.  796.  174.  408.\n",
      "  977.  536.  135. 1476.  587.  495.  523.  507. 1055. 1445.  218.  447.\n",
      " 1029.  674.  538.  740. 1234.  170. 1130.  584.  918.  792.  611. 1383.\n",
      "  867.  706.  728.  311.  556.  937. 1125.  444.  911.  585. 1392. 1005.\n",
      " 1299.  655.  746.  632.  658. 1467. 1312.  249.  802.  689. 1395. 1436.\n",
      " 1496. 1480.  313.  894.  290. 1084. 1002. 1242. 1052.  944.  771. 1416.\n",
      " 1327.  488. 1385.  666. 1315.  442.  950.  691. 1018.  559.  318.  144.\n",
      " 1171.  143. 1178. 1107.  645. 1485. 1116.  163.  561.  426.  509.  258.\n",
      "  525.  238.  482.  397.  243.  806. 1442.  929.  827.  703.  294.  314.\n",
      "  654.  501.  954. 1434.  657.  240.  791.  676.  436.  760.  661. 1085.\n",
      "  154. 1283.  616.  498.  530.  805.  903. 1229.  566. 1441.  153. 1066.\n",
      "  145. 1109.  124.  300. 1366.  857. 1204. 1082.  203. 1308.  718.  593.\n",
      " 1384. 1361. 1146. 1316.  363. 1103.  920.  694. 1429.  531.  621.  604.\n",
      "  325. 1030.  524.  943. 1009.  817.  930. 1147.  652.  337. 1136.  326.\n",
      "  377. 1038. 1490. 1246.  224.  441.  898. 1313. 1015. 1387. 1302.  602.\n",
      "  772.  809.  786.  921.  717.  979.  953.  244.  196.  303. 1092.  261.\n",
      " 1422. 1137.  511. 1396. 1096. 1169. 1239.  157.  754. 1303.  697.  116.\n",
      "  557.  582.  704.  613.  419.  477. 1211.  505.  269.  553. 1277.  302.\n",
      "  975. 1318.  881.  466.  945.  433.  991. 1083.  136.  333. 1462. 1131.\n",
      " 1023. 1065. 1115. 1479.  304. 1368.  828.  799.  142.  446.  254. 1410.\n",
      "  883.  121. 1343.  490. 1400. 1332. 1200. 1102. 1328.  548. 1214.  120.\n",
      "  841. 1033. 1452. 1268.  307.  797.  555. 1377.  210.  483.  575. 1311.\n",
      "  759.  891.  317.  688.  195.  622.  646.  719. 1012. 1278. 1222. 1231.\n",
      "  462.  231. 1089. 1262.  439.  528.  647. 1097.  942.  966.  168.  299.\n",
      "  999. 1498. 1439. 1111. 1174.  172.  401.  866.  571. 1342.  995.  118.\n",
      "  990.  241. 1470.  492. 1040. 1320.  146. 1153.  185. 1297. 1064. 1351.\n",
      "  468. 1273. 1141. 1488.  653. 1225. 1217. 1127. 1427.  702.  926.  878.\n",
      "  896. 1401.  675. 1070.  496.  390. 1220. 1124. 1046.  267.  443. 1287.\n",
      " 1420.  562.  650.  141.  715.  376.  932.  471.  180. 1265. 1075. 1086.\n",
      "  152.  974.  788.  192.  150. 1167.  206.  736.  322.  683. 1475.  560.\n",
      "  115.  888.  671.  567.  148.  581.  371. 1181. 1253.  370. 1194.  572.\n",
      "  355.  783.  155.  508.  642. 1382. 1037. 1120.  374.  287.  591.  670.\n",
      " 1346.  103.  673.  705. 1459. 1443. 1142.  664.  432. 1353.  489.  807.\n",
      " 1280.  957.  542.  216. 1150.  364. 1256.  440.  713.  140.  629.  328.\n",
      "  472.  905. 1151.  644.  992. 1323.  818. 1431.  976.  832.  916. 1247.\n",
      "  128. 1158.  996. 1449.  636.  889.  106.  723. 1482.  738. 1192. 1309.\n",
      "  544.  641.  756.  895. 1261.  329. 1362. 1371.  821. 1381. 1473.  296.\n",
      " 1349.  986.  413.  988. 1474.  232. 1236. 1112.  204.  913.  810.  693.\n",
      "  316.  381.  775.  804. 1090.  346.  725.  182.  384. 1325. 1258. 1041.\n",
      "  625. 1418. 1269.  395.  341.  500. 1454.  617. 1122. 1198.  188.  335.\n",
      "  461. 1134.  138. 1206.  109.  277.  265.  342. 1186.  769. 1176. 1091.\n",
      "  618.  970.  984.  793. 1182.  603.  874.  367.  199. 1457. 1421. 1450.\n",
      " 1212. 1010.  131.  193.  640.  848. 1138.  256.  935.  458.  662.  499.\n",
      "  949.  383. 1255. 1221.  981. 1495. 1193.  467.  271.  410. 1288. 1108.\n",
      "  437.  457.  634.  546.  711.  448.  365.  763.  486.  392.  727.  741.\n",
      "  552.  506. 1456.  160.  897.  600. 1054.  428.  343. 1216.  207.  280.\n",
      "  414.  836.  592.  219. 1079. 1251. 1168. 1444. 1154.  234.  529. 1322.\n",
      "  924.  134.  755.  253.  922. 1365.  306. 1271. 1404. 1391. 1464. 1330.\n",
      "  773.  902.  107.  504. 1358.  824.  594.  734.  766.  431. 1213. 1373.\n",
      " 1324. 1123.  391.  125. 1357.  626.  132.  871. 1031. 1145.  854. 1411.\n",
      "  252.  833. 1210. 1463.  812. 1162.  845. 1144.  156.  464. 1305.  983.\n",
      "  534. 1306. 1094.  558.  959.  782.  362.  268.  167. 1243.  720.  868.\n",
      " 1252.  781. 1272.  129. 1069.  289.  955.  660.  415.  309.  130.  862.\n",
      " 1098.  969.  373.  599.  968.  830. 1423.  516.  598.  104.  479.  474.\n",
      "  264. 1059.  563. 1259.  369.  543.  964.  176.  181.  211.  590.  305.\n",
      "  478. 1294. 1128.  726.  352. 1172.  605. 1337.  105.]\n",
      "Department\n",
      "[nan ' Research & Development ' ' Sales ' ' Human Resources ']\n",
      "DistanceFromHome\n",
      "[ 6  1  4  2  3 22 25  9  7 23 10 12 14 13 15  8 42 28 37  5 16 35 26 24\n",
      " 29 17 21 18 30 27 20 31 39 11 19 33 34 46 36 45 47 32 41 49 48 38 43 40\n",
      " 44]\n",
      "Education\n",
      "[3 4 2 1 5]\n",
      "EducationField\n",
      "[nan 'Life Sciences' 'Technical Degree' 'Medical' 'Other' 'Marketing'\n",
      " 'Human Resources']\n",
      "EmployeeNumber\n",
      "['162,0' '259,0' '319,0' ... '2012,0' '2023,0' '2040,0']\n",
      "EnvironmentSatisfaction\n",
      "[ 1  3  4  2 42 37 35 25 27 31 39 21 15 14 33 19 12 13 28 47 36 29 24 46\n",
      " 16 22 41 49 11 48 18 10 45 38 17 20 26 43]\n",
      "Gender\n",
      "['M' 'F']\n",
      "HourlyRate\n",
      "[ 51.  65.  58.  82.  45.  99.  91.  64.  55.  68.  49.  61.  79.  31.\n",
      "  69.  48.  80.  74.  98.  59.  33.  56.  66.  57.  53.  87.  81.  84.\n",
      "  32.  41.  92.  47.  nan  43.  86.  30.  42.  88.  96.  67.  62.  72.\n",
      "  78.  89.  52.  50.  90.  37.  94.  76.  60.  46.  83. 100.  40.  97.\n",
      "  54.  75.  39.  85.  63.  44.  93.  36.  35.  73.  71.  70.  38.  77.\n",
      "  95.  34.]\n",
      "JobInvolvement\n",
      "[3 2 4 1]\n",
      "JobLevel\n",
      "[5 4 3 2 1]\n",
      "JobRole\n",
      "[' Research Director ' ' Manager ' ' Sales Executive '\n",
      " ' Manufacturing Director ' ' Research Scientist '\n",
      " ' Healthcare Representative ' ' Laboratory Technician '\n",
      " ' Sales Representative ' ' Human Resources ']\n",
      "JobSatisfaction\n",
      "[3 4 1 2]\n",
      "MaritalStatus\n",
      "[nan 'Married' 'Divorced' 'Single']\n",
      "MonthlyIncome\n",
      "[19537. 19999. 19232. 17169.    nan 17174. 16595. 19973. 13402. 13206.\n",
      " 19545. 18041. 19246. 10748. 16752.  6201. 19845.  4001. 10447. 16064.\n",
      "  3210. 10266. 10475.  6162.  4721.  4615. 16959. 10306.  5406.  5902.\n",
      " 10855.  5914.  6646. 13973. 13320.  6687.  4735. 13872. 19045. 16015.\n",
      "  9613. 11510.  4306. 17046.  5067.  3692. 19847.  2308.  5747. 10422.\n",
      "  6347.  2348.  3072. 12490.  8020. 17068.  8943. 19272.  5577.  2691.\n",
      "  7403.  8823.  3579. 17779. 18213. 13577. 19190. 17123. 19187. 10008.\n",
      "  7988.  7083.  4723.  3407.  2929. 12031. 15427.  5126.  9619.  5010.\n",
      " 19033. 10400.  2793.  5674. 19197.  8412.  3348.  5309.  7654. 12808.\n",
      "  6586.  2519. 17099. 13120.  3131.  4444.  6674.  9852. 17861.  7446.\n",
      " 13757. 16598.  4285. 10124.  9714.  9924. 11245.  3069.  9241.  6472.\n",
      "  3055.  8321.  3143.  8578.  4197.  9888. 13341.  5677.  2909.  9526.\n",
      "  6825.  4424.  5441.  6074.  6146.  6172.  4668.  5605.  4319.  3564.\n",
      "  6261.  6804. 19436.  5828.  2455.  5055.  4682.  5257.  2119.  5974.\n",
      "  3034. 13212.  8392.  4051.  4805.  2741.  5337.  9434.  5396. 11159.\n",
      "  4960.  8793. 19189.  2216. 11713.  5304. 11103.  6632.  7587.  4335.\n",
      "  5980.  4244.  5228.  2700.  2366.  2329.  4294.  6725. 10325.  4447.\n",
      " 10845.  5472.  6385.  7525.  3660.  8740. 13499.  3491.  5220. 10252.\n",
      " 19740.  6209.  7094.  4534.  8500.  4639.  5363.  4081.  3578. 17328.\n",
      " 10793. 10851. 10466.  2362.  6439.  5769.  4385.  4066.  5206.  2655.\n",
      "  2570.  4502.  4968.  5147.  2718.  3539.  5468.  5813.  9667.  5154.\n",
      "  5675.  7314.  5098. 13570.  6712.  9991. 10248. 10938.  2593. 11878.\n",
      "  8095. 16856.  4537. 17924.  4014. 12742.  3376. 10482.  4249.  6549.\n",
      " 14411. 19586.  8237.  3211. 16704.  4774.  4568.  5993.  6499.  3452.\n",
      "  6397.  2725.  3622.  6180.  6274.  4381.  2559.  5488.  2514.  3196.\n",
      "  3420.  4087.  5368. 12936.  4221.  4963.  4200.  5006.  7639.  6502.\n",
      " 13525.  6349.  6380.  3102.  4556.  4230.  4859.  6322. 10761.  2973.\n",
      "  5204. 17399. 16885.  4323.  5155.  2936. 18789.  4883.  2029.  2996.\n",
      "  9278.  4162.  8853.  4876.  2141.  7756.  3936.  6842.  3989.  4930.\n",
      "  3702.  2705.  4448.  2379.  5487.  2810.  8938.  9936.  5454. 18740.\n",
      "  5473. 13503. 13549. 18172.  2774.  9439.  5265.  3815.  2389.  4000.\n",
      " 17584.  5661.  4869.  4649. 10496.  2768.  3408.  3755.  2187.  4258.\n",
      "  5326.  5485.  2782. 17639.  6062.  6288.  3424.  4194.  2532.  5666.\n",
      " 13726.  4107.  3597.  4115.  6272.  2517.  3904.  9204.  4373.  2064.\n",
      "  2430.  4877.  3760.  2013.  2974.  2766.  3377.  4213.  6513.  4284.\n",
      "  2226.  5561.  2144.  5373.  2897.  5321.  5410.  4850.  2001.  4404.\n",
      "  3944.  2960. 18947.  6465.  2683.  2014.  3441. 13664.  5021. 18844.\n",
      "  4739. 10650.  4317.  2024.  3058.  3929.  4425.  2328.  2657.  5940.\n",
      "  2622.  3212.  2911.  6931.  2176.  3230. 18665.  2789.  6410.  4941.\n",
      "  3983.  2904.  2696.  2174.  6755. 10965.  2543. 19406.  6538.  2258.\n",
      "  2218.  2654. 11935.  2546.  3894.  4262. 10527.  2400.  3681.  3447.\n",
      " 19513.  2659.  8847.  2045.  4851.  8120.  4577.  5405.  3708. 13770.\n",
      "  2297.  2450.  4342.  2572.  6500.  3149.  5324.  4382.  2553.  5933.\n",
      "  4403. 10934.  2022.  4256.  3580.  2899.  5562.  2377.  2404.  2799.\n",
      "  2811.  4377.  4240.  4227.  3917.  4969.  2042.  2821.  9957.  2207.\n",
      "  2070.  2791.  8224.  2610.  5731.  2539.  2376. 19081.  2743.  4538.\n",
      "  3867.  2080.  2096.  4627.  2302.  5071. 10596.  5467.  2394.  3629.\n",
      "  9362.  3229. 16422.  5647.  4400.  2066.  5486.  3162.  6651.  4898.\n",
      "  3180. 11244.  4069.  6392.  4855.  3312.  3117. 15202.  2580.  2166.\n",
      "  4374.  5505.  2587. 15972.  2305.  3433.  3477.  3907.  3445.  2760.\n",
      "  6294. 13116.  3591.  2105.  3902.  2662.  2062.  5507.  8103.  3978.\n",
      "  5399. 10448.  4440.  2660.  3375.  2269.  4787.  2809. 10854.  2571.\n",
      "  6142.  2496.  3419.  2501.  2566.  3920. 13964.  6540.  2244. 16184.\n",
      "  4233. 14814. 17159.  2318.  3617.  2684. 19237.  4422.  2552.  2678.\n",
      "  5171. 11916.  9380.  5878.  2468.  4127.  2148.  3886.  6667.  2090.\n",
      "  2086.  1951.  3022.  9724.  3388.  3038.  2322.  2926.  4505.  2835.\n",
      "  6553.  6673. 13591.  2177. 19517. 19202. 10048.  2723.  6644.  3161.\n",
      "  1420.  1200.  5238.  9985. 15992.  2370.  6781.  6653.  2851.  5258.\n",
      "  2476.  2285.  3448.  4558.  1702.  2564.  5070.  3780.  9824.  1878.\n",
      "  2340.  2127.  2033.  9602. 16627.  2083.  1009.  7861.  2642.  5121.\n",
      "  2694.  5094.  2274.  2314.  2380.  2008. 10552.  2259.  2413.  2121.\n",
      "  2479. 13194.  4163.  2600. 18303.  4777.  1052.  2461.  2596.  4728.\n",
      "  7351.  4766.  2827.  2853.  2290.  2107.  2210. 13191. 18265.  1118.\n",
      "  2372.  2838. 18061.  1611.  4768.  1274.  2561.  1563.  6388.  8376.\n",
      "  4841.  2074.  2972.  6815.  2690. 17567.  1569.  4187.  3306.  1393.\n",
      " 10883.  2862.  6735.  9756.  5294.  2437.  4071.  2956.  4648.  2804.\n",
      "  2439.  2856.  2933.  1091.  5151.  2863.  2858.  1129. 19431.]\n",
      "MonthlyRate\n",
      "[ 6462  5678  4933 ... 15302 26956 16642]\n",
      "NumCompaniesWorked\n",
      "[7 0 1 3 2 4 8 9 5 6]\n",
      "Over18\n",
      "['Y' nan]\n",
      "OverTime\n",
      "['No' nan 'Yes']\n",
      "PercentSalaryHike\n",
      "[13 14 11 19 12 25 16 17 22 23 20 15 21 24 18]\n",
      "PerformanceRating\n",
      "['3,0' '4,0' nan]\n",
      "RelationshipSatisfaction\n",
      "[3 1 4 2]\n",
      "StandardHours\n",
      "[nan '80,0']\n",
      "StockOptionLevel\n",
      "[0 1 2 3]\n",
      "TotalWorkingYears\n",
      "[nan '34,0' '22,0' '28,0' '20,0' '21,0' '33,0' '40,0' '18,0' '25,0' '15,0'\n",
      " '17,0' '26,0' '16,0' '24,0' '14,0' '23,0' '27,0' '19,0' '11,0' '38,0'\n",
      " '37,0' '13,0' '12,0' '29,0' '10,0' '36,0' '35,0' '9,0' '31,0' '32,0'\n",
      " '8,0' '7,0' '30,0' '6,0' '5,0' '4,0' '3,0' '2,0' '1,0' '0,0']\n",
      "TrainingTimesLastYear\n",
      "[5 3 2 0 1 4 6]\n",
      "WorkLifeBalance\n",
      "['3,0' nan '2,0' '4,0' '1,0']\n",
      "YearsAtCompany\n",
      "[20 33 22 19 21 18 24 31 26 16 23 15 17 32 14 13 25 12 11 37 40 36 27 29\n",
      " 10  9 30  8  7 34  6  5  4  2  3  1  0]\n",
      "YearsInCurrentRole\n",
      "[nan '13,0' '12,0' '11,0' '7,0' '6,0' '4,0' '3,0' '2,0' '1,0' '0,0']\n",
      "YearsSinceLastPromotion\n",
      "[15 11  5  2  4  7  0  1 13 14  8 12  3  6 10  9]\n",
      "YearsWithCurrManager\n",
      "[15  9  6  8  7 11 10 12  4  0  5 17  2 14  1 13  3 16]\n",
      "DateBirth\n",
      "[1972 1971 1981 1976 1977 1975 1964 1982 1967 1985 1968 1983 1965 1988\n",
      " 1978 1990 1987 1989 1970 1980 1963 1991 1986 1974 1984 1973 1979 1993\n",
      " 1994 1992 1969 1966 1996 1995 1997 1998 1999 2000 2001 2002 2003 2004\n",
      " 2005]\n",
      "RoleDepartament\n",
      "[nan ' Manager  -  Research & Development '\n",
      " ' Healthcare Representative  -  Research & Development '\n",
      " ' Sales Executive  -  Sales '\n",
      " ' Laboratory Technician  -  Research & Development '\n",
      " ' Manufacturing Director  -  Research & Development '\n",
      " ' Research Scientist  -  Research & Development '\n",
      " ' Research Director  -  Research & Development '\n",
      " ' Human Resources  -  Human Resources ' ' Manager  -  Sales '\n",
      " ' Sales Representative  -  Sales ' ' Manager  -  Human Resources ']\n",
      "RemoteWork\n",
      "['Yes' '1' 'False' '0' 'True']\n"
     ]
    }
   ],
   "source": [
    "# Comprobamos los valores únicos de cada columna\n",
    "\n",
    "lista_columnas = ['Attrition', 'BusinessTravel', 'DailyRate', 'Department',\n",
    "       'DistanceFromHome', 'Education', 'EducationField', 'EmployeeNumber',\n",
    "       'EnvironmentSatisfaction', 'Gender', 'HourlyRate', 'JobInvolvement',\n",
    "       'JobLevel', 'JobRole', 'JobSatisfaction', 'MaritalStatus',\n",
    "       'MonthlyIncome', 'MonthlyRate', 'NumCompaniesWorked', 'Over18',\n",
    "       'OverTime', 'PercentSalaryHike', 'PerformanceRating',\n",
    "       'RelationshipSatisfaction', 'StandardHours', 'StockOptionLevel',\n",
    "       'TotalWorkingYears', 'TrainingTimesLastYear', 'WorkLifeBalance',\n",
    "       'YearsAtCompany', 'YearsInCurrentRole', 'YearsSinceLastPromotion',\n",
    "       'YearsWithCurrManager', 'DateBirth', 'RoleDepartament', 'RemoteWork']\n",
    "\n",
    "for col in lista_columnas:\n",
    "    print(col)\n",
    "    print(df_HR[col].unique())"
   ]
  },
  {
   "cell_type": "code",
   "execution_count": 5,
   "metadata": {},
   "outputs": [
    {
     "data": {
      "text/plain": [
       "482,0     2\n",
       "530,0     2\n",
       "507,0     2\n",
       "517,0     2\n",
       "522,0     2\n",
       "         ..\n",
       "161,0     1\n",
       "164,0     1\n",
       "190,0     1\n",
       "194,0     1\n",
       "2040,0    1\n",
       "Name: EmployeeNumber, Length: 1079, dtype: int64"
      ]
     },
     "execution_count": 5,
     "metadata": {},
     "output_type": "execute_result"
    }
   ],
   "source": [
    "# Comprobamos el conteo de frecuencia de la columna EmployeeNumber. Varios números aparecen 2 veces repetidos.\n",
    "# \n",
    "df_HR['EmployeeNumber'].value_counts()"
   ]
  },
  {
   "cell_type": "code",
   "execution_count": 21,
   "metadata": {},
   "outputs": [
    {
     "name": "stdout",
     "output_type": "stream",
     "text": [
      "<class 'pandas.core.frame.DataFrame'>\n",
      "Int64Index: 1614 entries, 51 to 46\n",
      "Data columns (total 36 columns):\n",
      " #   Column                    Non-Null Count  Dtype  \n",
      "---  ------                    --------------  -----  \n",
      " 0   Attrition                 1614 non-null   object \n",
      " 1   BusinessTravel            842 non-null    object \n",
      " 2   DailyRate                 1490 non-null   float64\n",
      " 3   Department                302 non-null    object \n",
      " 4   DistanceFromHome          1614 non-null   int64  \n",
      " 5   Education                 1614 non-null   int64  \n",
      " 6   EducationField            869 non-null    object \n",
      " 7   EmployeeNumber            1183 non-null   object \n",
      " 8   EnvironmentSatisfaction   1614 non-null   int64  \n",
      " 9   Gender                    1614 non-null   object \n",
      " 10  HourlyRate                1530 non-null   float64\n",
      " 11  JobInvolvement            1614 non-null   int64  \n",
      " 12  JobLevel                  1614 non-null   int64  \n",
      " 13  JobRole                   1614 non-null   object \n",
      " 14  JobSatisfaction           1614 non-null   int64  \n",
      " 15  MaritalStatus             963 non-null    object \n",
      " 16  MonthlyIncome             771 non-null    float64\n",
      " 17  MonthlyRate               1614 non-null   int64  \n",
      " 18  NumCompaniesWorked        1614 non-null   int64  \n",
      " 19  Over18                    713 non-null    object \n",
      " 20  OverTime                  938 non-null    object \n",
      " 21  PercentSalaryHike         1614 non-null   int64  \n",
      " 22  PerformanceRating         1419 non-null   object \n",
      " 23  RelationshipSatisfaction  1614 non-null   int64  \n",
      " 24  StandardHours             419 non-null    object \n",
      " 25  StockOptionLevel          1614 non-null   int64  \n",
      " 26  TotalWorkingYears         1088 non-null   object \n",
      " 27  TrainingTimesLastYear     1614 non-null   int64  \n",
      " 28  WorkLifeBalance           1506 non-null   object \n",
      " 29  YearsAtCompany            1614 non-null   int64  \n",
      " 30  YearsInCurrentRole        34 non-null     object \n",
      " 31  YearsSinceLastPromotion   1614 non-null   int64  \n",
      " 32  YearsWithCurrManager      1614 non-null   int64  \n",
      " 33  DateBirth                 1614 non-null   int64  \n",
      " 34  RoleDepartament           302 non-null    object \n",
      " 35  RemoteWork                1614 non-null   object \n",
      "dtypes: float64(3), int64(16), object(17)\n",
      "memory usage: 466.5+ KB\n"
     ]
    }
   ],
   "source": [
    "df_HR.info()"
   ]
  },
  {
   "cell_type": "markdown",
   "metadata": {},
   "source": [
    "# Gestión de nulos en Columnas Categóricas"
   ]
  },
  {
   "cell_type": "code",
   "execution_count": null,
   "metadata": {},
   "outputs": [],
   "source": [
    "# Calculamos el porcentaje de nulos que tenemos para cada columna categórica\n",
    "porc_nulos = (df_HR.isnull().sum() / df_HR.shape[0]) * 100\n",
    "porc_nulos"
   ]
  },
  {
   "cell_type": "code",
   "execution_count": 9,
   "metadata": {},
   "outputs": [
    {
     "data": {
      "text/html": [
       "<div>\n",
       "<style scoped>\n",
       "    .dataframe tbody tr th:only-of-type {\n",
       "        vertical-align: middle;\n",
       "    }\n",
       "\n",
       "    .dataframe tbody tr th {\n",
       "        vertical-align: top;\n",
       "    }\n",
       "\n",
       "    .dataframe thead th {\n",
       "        text-align: right;\n",
       "    }\n",
       "</style>\n",
       "<table border=\"1\" class=\"dataframe\">\n",
       "  <thead>\n",
       "    <tr style=\"text-align: right;\">\n",
       "      <th></th>\n",
       "      <th>%_nulos</th>\n",
       "    </tr>\n",
       "  </thead>\n",
       "  <tbody>\n",
       "    <tr>\n",
       "      <th>BusinessTravel</th>\n",
       "      <td>47.831475</td>\n",
       "    </tr>\n",
       "    <tr>\n",
       "      <th>DailyRate</th>\n",
       "      <td>7.682776</td>\n",
       "    </tr>\n",
       "    <tr>\n",
       "      <th>Department</th>\n",
       "      <td>81.288724</td>\n",
       "    </tr>\n",
       "    <tr>\n",
       "      <th>EducationField</th>\n",
       "      <td>46.158612</td>\n",
       "    </tr>\n",
       "    <tr>\n",
       "      <th>EmployeeNumber</th>\n",
       "      <td>26.703841</td>\n",
       "    </tr>\n",
       "    <tr>\n",
       "      <th>HourlyRate</th>\n",
       "      <td>5.204461</td>\n",
       "    </tr>\n",
       "    <tr>\n",
       "      <th>MaritalStatus</th>\n",
       "      <td>40.334572</td>\n",
       "    </tr>\n",
       "    <tr>\n",
       "      <th>MonthlyIncome</th>\n",
       "      <td>52.230483</td>\n",
       "    </tr>\n",
       "    <tr>\n",
       "      <th>Over18</th>\n",
       "      <td>55.824040</td>\n",
       "    </tr>\n",
       "    <tr>\n",
       "      <th>OverTime</th>\n",
       "      <td>41.883519</td>\n",
       "    </tr>\n",
       "    <tr>\n",
       "      <th>PerformanceRating</th>\n",
       "      <td>12.081784</td>\n",
       "    </tr>\n",
       "    <tr>\n",
       "      <th>StandardHours</th>\n",
       "      <td>74.039653</td>\n",
       "    </tr>\n",
       "    <tr>\n",
       "      <th>TotalWorkingYears</th>\n",
       "      <td>32.589839</td>\n",
       "    </tr>\n",
       "    <tr>\n",
       "      <th>WorkLifeBalance</th>\n",
       "      <td>6.691450</td>\n",
       "    </tr>\n",
       "    <tr>\n",
       "      <th>YearsInCurrentRole</th>\n",
       "      <td>97.893432</td>\n",
       "    </tr>\n",
       "    <tr>\n",
       "      <th>RoleDepartament</th>\n",
       "      <td>81.288724</td>\n",
       "    </tr>\n",
       "  </tbody>\n",
       "</table>\n",
       "</div>"
      ],
      "text/plain": [
       "                      %_nulos\n",
       "BusinessTravel      47.831475\n",
       "DailyRate            7.682776\n",
       "Department          81.288724\n",
       "EducationField      46.158612\n",
       "EmployeeNumber      26.703841\n",
       "HourlyRate           5.204461\n",
       "MaritalStatus       40.334572\n",
       "MonthlyIncome       52.230483\n",
       "Over18              55.824040\n",
       "OverTime            41.883519\n",
       "PerformanceRating   12.081784\n",
       "StandardHours       74.039653\n",
       "TotalWorkingYears   32.589839\n",
       "WorkLifeBalance      6.691450\n",
       "YearsInCurrentRole  97.893432\n",
       "RoleDepartament     81.288724"
      ]
     },
     "execution_count": 9,
     "metadata": {},
     "output_type": "execute_result"
    }
   ],
   "source": [
    "# Lo convertimos a DataFrame\n",
    "df_nulos = pd.DataFrame(porc_nulos, columns = [\"%_nulos\"])\n",
    "\n",
    "# Filtramos el DataFrame para quedarnos solo con aquellas columnas que tengan nulos\n",
    "df_nulos[df_nulos[\"%_nulos\"] > 0]"
   ]
  },
  {
   "cell_type": "code",
   "execution_count": 11,
   "metadata": {},
   "outputs": [
    {
     "name": "stdout",
     "output_type": "stream",
     "text": [
      "Las columnas categóricas que tienen nulos son : \n",
      " \n",
      "Index(['BusinessTravel', 'Department', 'EducationField', 'EmployeeNumber',\n",
      "       'MaritalStatus', 'Over18', 'OverTime', 'PerformanceRating',\n",
      "       'StandardHours', 'TotalWorkingYears', 'WorkLifeBalance',\n",
      "       'YearsInCurrentRole', 'RoleDepartament'],\n",
      "      dtype='object')\n"
     ]
    }
   ],
   "source": [
    "# Obtenemos la lista de columnas categóricas que tienen nulos\n",
    "nulos_esta_cat = df_HR[df_HR.columns[df_HR.isnull().any()]].select_dtypes(include = \"O\").columns\n",
    "print(\"Las columnas categóricas que tienen nulos son : \\n \")\n",
    "print(nulos_esta_cat)"
   ]
  },
  {
   "cell_type": "code",
   "execution_count": 12,
   "metadata": {},
   "outputs": [
    {
     "name": "stdout",
     "output_type": "stream",
     "text": [
      "La distribución de las categorías para la columna BUSINESSTRAVEL\n"
     ]
    },
    {
     "data": {
      "text/plain": [
       "travel_rarely        0.363073\n",
       "travel_frequently    0.102230\n",
       "non-travel           0.056382\n",
       "Name: BusinessTravel, dtype: float64"
      ]
     },
     "metadata": {},
     "output_type": "display_data"
    },
    {
     "name": "stdout",
     "output_type": "stream",
     "text": [
      "........................\n",
      "La distribución de las categorías para la columna DEPARTMENT\n"
     ]
    },
    {
     "data": {
      "text/plain": [
       " Research & Development     0.121437\n",
       " Sales                      0.056382\n",
       " Human Resources            0.009294\n",
       "Name: Department, dtype: float64"
      ]
     },
     "metadata": {},
     "output_type": "display_data"
    },
    {
     "name": "stdout",
     "output_type": "stream",
     "text": [
      "........................\n",
      "La distribución de las categorías para la columna EDUCATIONFIELD\n"
     ]
    },
    {
     "data": {
      "text/plain": [
       "Life Sciences       0.216233\n",
       "Medical             0.171004\n",
       "Marketing           0.064436\n",
       "Technical Degree    0.042751\n",
       "Other               0.036555\n",
       "Human Resources     0.007435\n",
       "Name: EducationField, dtype: float64"
      ]
     },
     "metadata": {},
     "output_type": "display_data"
    },
    {
     "name": "stdout",
     "output_type": "stream",
     "text": [
      "........................\n",
      "La distribución de las categorías para la columna EMPLOYEENUMBER\n"
     ]
    },
    {
     "data": {
      "text/plain": [
       "482,0     0.001239\n",
       "530,0     0.001239\n",
       "507,0     0.001239\n",
       "517,0     0.001239\n",
       "522,0     0.001239\n",
       "            ...   \n",
       "161,0     0.000620\n",
       "164,0     0.000620\n",
       "190,0     0.000620\n",
       "194,0     0.000620\n",
       "2040,0    0.000620\n",
       "Name: EmployeeNumber, Length: 1079, dtype: float64"
      ]
     },
     "metadata": {},
     "output_type": "display_data"
    },
    {
     "name": "stdout",
     "output_type": "stream",
     "text": [
      "........................\n",
      "La distribución de las categorías para la columna MARITALSTATUS\n"
     ]
    },
    {
     "data": {
      "text/plain": [
       "Married     0.271995\n",
       "Single      0.201363\n",
       "Divorced    0.123296\n",
       "Name: MaritalStatus, dtype: float64"
      ]
     },
     "metadata": {},
     "output_type": "display_data"
    },
    {
     "name": "stdout",
     "output_type": "stream",
     "text": [
      "........................\n",
      "La distribución de las categorías para la columna OVER18\n"
     ]
    },
    {
     "data": {
      "text/plain": [
       "Y    0.44176\n",
       "Name: Over18, dtype: float64"
      ]
     },
     "metadata": {},
     "output_type": "display_data"
    },
    {
     "name": "stdout",
     "output_type": "stream",
     "text": [
      "........................\n",
      "La distribución de las categorías para la columna OVERTIME\n"
     ]
    },
    {
     "data": {
      "text/plain": [
       "No     0.422553\n",
       "Yes    0.158612\n",
       "Name: OverTime, dtype: float64"
      ]
     },
     "metadata": {},
     "output_type": "display_data"
    },
    {
     "name": "stdout",
     "output_type": "stream",
     "text": [
      "........................\n",
      "La distribución de las categorías para la columna PERFORMANCERATING\n"
     ]
    },
    {
     "data": {
      "text/plain": [
       "3,0    0.746592\n",
       "4,0    0.132590\n",
       "Name: PerformanceRating, dtype: float64"
      ]
     },
     "metadata": {},
     "output_type": "display_data"
    },
    {
     "name": "stdout",
     "output_type": "stream",
     "text": [
      "........................\n",
      "La distribución de las categorías para la columna STANDARDHOURS\n"
     ]
    },
    {
     "data": {
      "text/plain": [
       "80,0    0.259603\n",
       "Name: StandardHours, dtype: float64"
      ]
     },
     "metadata": {},
     "output_type": "display_data"
    },
    {
     "name": "stdout",
     "output_type": "stream",
     "text": [
      "........................\n",
      "La distribución de las categorías para la columna TOTALWORKINGYEARS\n"
     ]
    },
    {
     "data": {
      "text/plain": [
       "10,0    0.089219\n",
       "8,0     0.053284\n",
       "6,0     0.052045\n",
       "9,0     0.042751\n",
       "5,0     0.040892\n",
       "7,0     0.034696\n",
       "4,0     0.033457\n",
       "1,0     0.032838\n",
       "12,0    0.021066\n",
       "3,0     0.019827\n",
       "14,0    0.018587\n",
       "13,0    0.018587\n",
       "11,0    0.017968\n",
       "15,0    0.017348\n",
       "16,0    0.017348\n",
       "20,0    0.017348\n",
       "18,0    0.016729\n",
       "21,0    0.014250\n",
       "17,0    0.013631\n",
       "2,0     0.013011\n",
       "22,0    0.011152\n",
       "19,0    0.010533\n",
       "24,0    0.008674\n",
       "23,0    0.008055\n",
       "28,0    0.008055\n",
       "26,0    0.004957\n",
       "0,0     0.004957\n",
       "29,0    0.003717\n",
       "36,0    0.003717\n",
       "25,0    0.003717\n",
       "33,0    0.003717\n",
       "37,0    0.003098\n",
       "27,0    0.003098\n",
       "31,0    0.002478\n",
       "30,0    0.001859\n",
       "32,0    0.001859\n",
       "35,0    0.001859\n",
       "40,0    0.001859\n",
       "34,0    0.001239\n",
       "38,0    0.000620\n",
       "Name: TotalWorkingYears, dtype: float64"
      ]
     },
     "metadata": {},
     "output_type": "display_data"
    },
    {
     "name": "stdout",
     "output_type": "stream",
     "text": [
      "........................\n",
      "La distribución de las categorías para la columna WORKLIFEBALANCE\n"
     ]
    },
    {
     "data": {
      "text/plain": [
       "3,0    0.565675\n",
       "2,0    0.222429\n",
       "4,0    0.096035\n",
       "1,0    0.048947\n",
       "Name: WorkLifeBalance, dtype: float64"
      ]
     },
     "metadata": {},
     "output_type": "display_data"
    },
    {
     "name": "stdout",
     "output_type": "stream",
     "text": [
      "........................\n",
      "La distribución de las categorías para la columna YEARSINCURRENTROLE\n"
     ]
    },
    {
     "data": {
      "text/plain": [
       "2,0     0.006815\n",
       "7,0     0.003098\n",
       "0,0     0.002478\n",
       "4,0     0.001859\n",
       "1,0     0.001859\n",
       "11,0    0.001239\n",
       "6,0     0.001239\n",
       "3,0     0.001239\n",
       "13,0    0.000620\n",
       "12,0    0.000620\n",
       "Name: YearsInCurrentRole, dtype: float64"
      ]
     },
     "metadata": {},
     "output_type": "display_data"
    },
    {
     "name": "stdout",
     "output_type": "stream",
     "text": [
      "........................\n",
      "La distribución de las categorías para la columna ROLEDEPARTAMENT\n"
     ]
    },
    {
     "data": {
      "text/plain": [
       " Sales Executive  -  Sales                                0.042751\n",
       " Research Scientist  -  Research & Development            0.038414\n",
       " Laboratory Technician  -  Research & Development         0.034696\n",
       " Healthcare Representative  -  Research & Development     0.016109\n",
       " Manufacturing Director  -  Research & Development        0.013631\n",
       " Sales Representative  -  Sales                           0.010533\n",
       " Research Director  -  Research & Development             0.009913\n",
       " Manager  -  Research & Development                       0.008674\n",
       " Human Resources  -  Human Resources                      0.008674\n",
       " Manager  -  Sales                                        0.003098\n",
       " Manager  -  Human Resources                              0.000620\n",
       "Name: RoleDepartament, dtype: float64"
      ]
     },
     "metadata": {},
     "output_type": "display_data"
    },
    {
     "name": "stdout",
     "output_type": "stream",
     "text": [
      "........................\n"
     ]
    }
   ],
   "source": [
    "# Sacamos el 'value_counts()' de cada una de las columnas categóricas que tienen nulos para saber como es la distribución de sus categorías\n",
    "for col in nulos_esta_cat:\n",
    "    print(f\"La distribución de las categorías para la columna {col.upper()}\")\n",
    "    display(df_HR[col].value_counts() / df_HR.shape[0])  # display es una función utilizada para mostrar objetos de manera más legible en Jupyter Notebooks o entornos similares. \n",
    "    print(\"........................\")"
   ]
  },
  {
   "cell_type": "code",
   "execution_count": null,
   "metadata": {},
   "outputs": [],
   "source": [
    "# Con esta fórmula podemos ver la distribución de los valores de la columna que queramos\n",
    "\n",
    "display(df_HR[col].value_counts() / df.shape[0]) "
   ]
  },
  {
   "cell_type": "code",
   "execution_count": null,
   "metadata": {},
   "outputs": [],
   "source": []
  },
  {
   "cell_type": "code",
   "execution_count": null,
   "metadata": {},
   "outputs": [],
   "source": [
    "# ENTRE TODAS TENEMOS QUE VER CÓMO GESTIONAMOS LOS NULOS Y APLICAR EL CÓDIGO QUE HAY A CONTINUACIÓN"
   ]
  },
  {
   "cell_type": "markdown",
   "metadata": {},
   "source": [
    "**Sustitución por moda y por el valor \"desconocido**"
   ]
  },
  {
   "cell_type": "code",
   "execution_count": null,
   "metadata": {},
   "outputs": [],
   "source": [
    "# Creamos dos listas, una con los nombres de las columnas que reemplazaremos por la moda y otra para las columnas que reemplazaremos \n",
    "# por una categoría nueva\n",
    "# Hay que tener en cuenta que los valores de más abajo corresponden a otro csv. Habría que sustituirlos por los valores de df_HR.\n",
    "columnas_moda = [\"marital\", \"loan\", \"default\"]\n",
    "columnas_desconocido = [\"job\", \"education\", \"housing\", \"contact_month\", \"date\"]"
   ]
  },
  {
   "cell_type": "code",
   "execution_count": null,
   "metadata": {},
   "outputs": [],
   "source": [
    "# Iteramos por la lista columnas_moda (en las que vamos a sustituir los valores nulos por la moda)\n",
    "for columna in columnas_moda:\n",
    "    \n",
    "    # calculamos la moda para la columna por la que estamos iterando\n",
    "    moda = df[columna].mode()[0]    \n",
    "    \n",
    "    # utilizando el método fillna reemplazamos los valores nulos por la moda calculada en el paso anterior. \n",
    "    df[columna] = df[columna].fillna(moda)\n",
    "\n",
    "# por último chequeamos si se han eliminado los nulos en las columnas de \"marital\" y \"loan\"\n",
    "print(\"Después del reemplazo usando 'fillna' quedan los siguientes nulos\")\n",
    "\n",
    "df[columnas_moda].isnull().sum()"
   ]
  },
  {
   "cell_type": "code",
   "execution_count": null,
   "metadata": {},
   "outputs": [],
   "source": [
    "# Ahora hacemos lo mismo con la lista columnas_desconocido (en las que vamos a sustituir los nulos por el valor \"Unknown\")\n",
    "\n",
    "for columna in columnas_desconocido:\n",
    "    \n",
    "    # reemplazamos los nulos por el valor Unknown para cada una de las columnas de la lista\n",
    "    df[columna] = df[columna].fillna(\"Unknown\")\n",
    "    \n",
    "# comprobamos si quedan nulos en las columnas categóricas. \n",
    "print(\"Después del reemplazo usando 'fillna' quedan los siguientes nulos\")\n",
    "df[columnas_desconocido].isnull().sum()"
   ]
  },
  {
   "cell_type": "markdown",
   "metadata": {},
   "source": [
    "# Gestión de nulos en Columnas Numéricas"
   ]
  },
  {
   "cell_type": "code",
   "execution_count": 17,
   "metadata": {},
   "outputs": [
    {
     "name": "stdout",
     "output_type": "stream",
     "text": [
      "Las columnas numéricas que tienen nulos son : \n",
      " \n",
      "Index(['DailyRate', 'HourlyRate', 'MonthlyIncome'], dtype='object')\n"
     ]
    }
   ],
   "source": [
    "# Obtenemos la lista de columnas numericas que tienen nulos\n",
    "nulos_esta_num = df_HR[df_HR.columns[df_HR.isnull().any()]].select_dtypes(include = np.number).columns\n",
    "print(\"Las columnas numéricas que tienen nulos son : \\n \")\n",
    "print(nulos_esta_num)"
   ]
  },
  {
   "cell_type": "code",
   "execution_count": 18,
   "metadata": {},
   "outputs": [
    {
     "data": {
      "text/plain": [
       "DailyRate        0.076828\n",
       "HourlyRate       0.052045\n",
       "MonthlyIncome    0.522305\n",
       "dtype: float64"
      ]
     },
     "execution_count": 18,
     "metadata": {},
     "output_type": "execute_result"
    }
   ],
   "source": [
    "# Calculamos el número de nulos que tenemos en cada una de las columnas numericas\n",
    "df_HR[nulos_esta_num].isnull().sum() / df_HR.shape[0]"
   ]
  },
  {
   "cell_type": "code",
   "execution_count": 20,
   "metadata": {},
   "outputs": [
    {
     "data": {
      "image/png": "[encoded data removed]",
      "text/plain": [
       "<Figure size 1440x720 with 5 Axes>"
      ]
     },
     "metadata": {
      "needs_background": "light"
     },
     "output_type": "display_data"
    }
   ],
   "source": [
    "# Comprobamos si dentro de las columnas donde tenemos nulos tenemos valores atípicos. \n",
    "\n",
    "fig, axes = plt.subplots(nrows = 2, ncols = 3, figsize = (20,10)) \n",
    "\n",
    "axes = axes.flat\n",
    "\n",
    "for indice, col in enumerate(nulos_esta_num):\n",
    "    sns.boxplot(x = col, data = df_HR, ax = axes[indice])\n",
    "    \n",
    "plt.tight_layout()\n",
    "fig.delaxes(axes[-1]);"
   ]
  }
 ],
 "metadata": {
  "kernelspec": {
   "display_name": "base",
   "language": "python",
   "name": "python3"
  },
  "language_info": {
   "codemirror_mode": {
    "name": "ipython",
    "version": 3
   },
   "file_extension": ".py",
   "mimetype": "text/x-python",
   "name": "python",
   "nbconvert_exporter": "python",
   "pygments_lexer": "ipython3",
   "version": "3.9.7"
  }
 },
 "nbformat": 4,
 "nbformat_minor": 2
}
